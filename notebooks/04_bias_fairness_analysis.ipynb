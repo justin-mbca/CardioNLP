{
 "cells": [
  {
   "cell_type": "code",
   "execution_count": null,
   "id": "bde6490c",
   "metadata": {
    "vscode": {
     "languageId": "plaintext"
    }
   },
   "outputs": [],
   "source": [
    "import seaborn as sns\n",
    "\n",
    "df = pd.read_csv('../data/synthetic_patients.csv')\n",
    "groups = df['ethnicity'].unique()\n",
    "\n",
    "for group in groups:\n",
    "    subset = df[df['ethnicity'] == group]\n",
    "    auc = roc_auc_score(subset['cardio_risk'], model.predict_proba(subset.drop(columns=['cardio_risk']))[:,1])\n",
    "    print(f\"{group} AUC: {auc}\")\n"
   ]
  }
 ],
 "metadata": {
  "language_info": {
   "name": "python"
  }
 },
 "nbformat": 4,
 "nbformat_minor": 5
}
