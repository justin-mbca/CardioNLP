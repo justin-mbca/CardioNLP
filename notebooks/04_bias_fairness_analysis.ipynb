{
 "cells": [
  {
   "cell_type": "code",
   "execution_count": 1,
   "id": "bde6490c",
   "metadata": {},
   "outputs": [
    {
     "name": "stdout",
     "output_type": "stream",
     "text": [
      "White AUC: 1.0\n",
      "Asian AUC: 1.0\n",
      "Black: Only one class present in y_true, skipping AUC calculation.\n",
      "Hispanic: Only one class present in y_true, skipping AUC calculation.\n"
     ]
    }
   ],
   "source": [
    "import seaborn as sns\n",
    "import pandas as pd\n",
    "from sklearn.metrics import roc_auc_score\n",
    "import xgboost as xgb\n",
    "from sklearn.model_selection import train_test_split\n",
    "\n",
    "df = pd.read_csv('../data/synthetic_patients.csv')\n",
    "\n",
    "# Handle categorical variables with one-hot encoding\n",
    "categorical_cols = ['gender', 'ethnicity', 'smoking_status', 'diabetes_status', 'physical_activity', 'family_history']\n",
    "for col in categorical_cols:\n",
    "    df[col] = df[col].astype('category')\n",
    "\n",
    "X = pd.get_dummies(df.drop(columns=['cardio_risk']), drop_first=True)\n",
    "y = df['cardio_risk']\n",
    "\n",
    "# Train/test split (use all data for model, or split as needed)\n",
    "X_train, X_test, y_train, y_test = train_test_split(X, y, test_size=0.2)\n",
    "model = xgb.XGBClassifier()\n",
    "model.fit(X_train, y_train)\n",
    "\n",
    "groups = df['ethnicity'].unique()\n",
    "\n",
    "for group in groups:\n",
    "    subset = df[df['ethnicity'] == group]\n",
    "    if subset['cardio_risk'].nunique() < 2:\n",
    "        print(f\"{group}: Only one class present in y_true, skipping AUC calculation.\")\n",
    "        continue\n",
    "    subset_X = pd.get_dummies(subset.drop(columns=['cardio_risk']), drop_first=True)\n",
    "    # Align columns with training data\n",
    "    subset_X = subset_X.reindex(columns=X_train.columns, fill_value=0)\n",
    "    auc = roc_auc_score(subset['cardio_risk'], model.predict_proba(subset_X)[:,1])\n",
    "    print(f\"{group} AUC: {auc}\")\n"
   ]
  },
  {
   "cell_type": "code",
   "execution_count": null,
   "id": "06fede6d-be26-46b8-ab84-243bbb2bd6b0",
   "metadata": {},
   "outputs": [],
   "source": []
  }
 ],
 "metadata": {
  "kernelspec": {
   "display_name": "Python 3 (ipykernel)",
   "language": "python",
   "name": "python3"
  },
  "language_info": {
   "codemirror_mode": {
    "name": "ipython",
    "version": 3
   },
   "file_extension": ".py",
   "mimetype": "text/x-python",
   "name": "python",
   "nbconvert_exporter": "python",
   "pygments_lexer": "ipython3",
   "version": "3.11.13"
  }
 },
 "nbformat": 4,
 "nbformat_minor": 5
}
