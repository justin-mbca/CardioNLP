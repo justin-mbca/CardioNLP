{
 "cells": [
  {
   "cell_type": "code",
   "execution_count": 1,
   "id": "8924a939",
   "metadata": {
    "vscode": {
     "languageId": "plaintext"
    }
   },
   "outputs": [
    {
     "name": "stderr",
     "output_type": "stream",
     "text": [
      "Some weights of BertForTokenClassification were not initialized from the model checkpoint at dmis-lab/biobert-base-cased-v1.1 and are newly initialized: ['classifier.bias', 'classifier.weight']\n",
      "You should probably TRAIN this model on a down-stream task to be able to use it for predictions and inference.\n",
      "Device set to use mps:0\n",
      "Asking to truncate to max_length but no maximum length is provided and the model has no predefined maximum length. Default to no truncation.\n"
     ]
    },
    {
     "name": "stdout",
     "output_type": "stream",
     "text": [
      "{'entity': 'LABEL_0', 'score': np.float32(0.705313), 'index': 1, 'word': 'patient', 'start': 0, 'end': 7}\n",
      "{'entity': 'LABEL_0', 'score': np.float32(0.67900324), 'index': 2, 'word': 'reports', 'start': 8, 'end': 15}\n",
      "{'entity': 'LABEL_0', 'score': np.float32(0.65245706), 'index': 3, 'word': 'chest', 'start': 16, 'end': 21}\n",
      "{'entity': 'LABEL_0', 'score': np.float32(0.6025017), 'index': 4, 'word': 'pain', 'start': 22, 'end': 26}\n",
      "{'entity': 'LABEL_0', 'score': np.float32(0.6659194), 'index': 5, 'word': 'and', 'start': 27, 'end': 30}\n",
      "{'entity': 'LABEL_0', 'score': np.float32(0.6643492), 'index': 6, 'word': 'short', 'start': 31, 'end': 36}\n",
      "{'entity': 'LABEL_0', 'score': np.float32(0.5154544), 'index': 7, 'word': '##ness', 'start': 36, 'end': 40}\n",
      "{'entity': 'LABEL_0', 'score': np.float32(0.6377806), 'index': 8, 'word': 'of', 'start': 41, 'end': 43}\n",
      "{'entity': 'LABEL_0', 'score': np.float32(0.6713047), 'index': 9, 'word': 'breath', 'start': 44, 'end': 50}\n",
      "{'entity': 'LABEL_0', 'score': np.float32(0.6445776), 'index': 10, 'word': '.', 'start': 50, 'end': 51}\n"
     ]
    }
   ],
   "source": [
    "from transformers import AutoTokenizer, AutoModelForTokenClassification, pipeline\n",
    "\n",
    "tokenizer = AutoTokenizer.from_pretrained(\"dmis-lab/biobert-base-cased-v1.1\")\n",
    "model = AutoModelForTokenClassification.from_pretrained(\"dmis-lab/biobert-base-cased-v1.1\")\n",
    "nlp = pipeline(\"ner\", model=model, tokenizer=tokenizer)\n",
    "\n",
    "text = \"Patient reports chest pain and shortness of breath.\"\n",
    "entities = nlp(text)\n",
    "for e in entities:\n",
    "    print(e)\n"
   ]
  },
  {
   "cell_type": "code",
   "execution_count": null,
   "id": "4d338228-2a22-420e-b89d-706504c76d83",
   "metadata": {},
   "outputs": [],
   "source": []
  }
 ],
 "metadata": {
  "kernelspec": {
   "display_name": "Python 3 (ipykernel)",
   "language": "python",
   "name": "python3"
  },
  "language_info": {
   "codemirror_mode": {
    "name": "ipython",
    "version": 3
   },
   "file_extension": ".py",
   "mimetype": "text/x-python",
   "name": "python",
   "nbconvert_exporter": "python",
   "pygments_lexer": "ipython3",
   "version": "3.11.13"
  }
 },
 "nbformat": 4,
 "nbformat_minor": 5
}
