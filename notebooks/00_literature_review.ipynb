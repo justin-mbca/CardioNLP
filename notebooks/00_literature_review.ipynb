{
 "cells": [
  {
   "cell_type": "code",
   "execution_count": 1,
   "id": "1b8e7017",
   "metadata": {
    "vscode": {
     "languageId": "plaintext"
    }
   },
   "outputs": [
    {
     "data": {
      "text/markdown": [
       "\n",
       "### 🔬 Key Papers in Cardiovascular AI\n",
       "\n",
       "**1. Deep Learning for Cardiovascular Risk Prediction (Nature Medicine, 2022)**  \n",
       "- Multimodal EHR data improved 10-year risk prediction.  \n",
       "- NLP-derived features boosted accuracy by 12%.  \n",
       "- Emphasized model interpretability.\n",
       "\n",
       "**2. BioBERT: Pre-trained Biomedical Language Representation (Bioinformatics, 2020)**  \n",
       "- Fine-tuned BERT on PubMed abstracts and clinical notes.  \n",
       "- Outperformed traditional NLP models on biomedical tasks.\n",
       "\n",
       "**3. Fairness in Medical AI (JAMA, 2021)**  \n",
       "- Highlighted disparities in model performance across ethnic groups.  \n",
       "- Advocated for subgroup analysis and fairness metrics.\n"
      ],
      "text/plain": [
       "<IPython.core.display.Markdown object>"
      ]
     },
     "execution_count": 1,
     "metadata": {},
     "output_type": "execute_result"
    }
   ],
   "source": [
    "# Literature Review Summary\n",
    "from IPython.display import Markdown\n",
    "\n",
    "Markdown(\"\"\"\n",
    "### 🔬 Key Papers in Cardiovascular AI\n",
    "\n",
    "**1. Deep Learning for Cardiovascular Risk Prediction (Nature Medicine, 2022)**  \n",
    "- Multimodal EHR data improved 10-year risk prediction.  \n",
    "- NLP-derived features boosted accuracy by 12%.  \n",
    "- Emphasized model interpretability.\n",
    "\n",
    "**2. BioBERT: Pre-trained Biomedical Language Representation (Bioinformatics, 2020)**  \n",
    "- Fine-tuned BERT on PubMed abstracts and clinical notes.  \n",
    "- Outperformed traditional NLP models on biomedical tasks.\n",
    "\n",
    "**3. Fairness in Medical AI (JAMA, 2021)**  \n",
    "- Highlighted disparities in model performance across ethnic groups.  \n",
    "- Advocated for subgroup analysis and fairness metrics.\n",
    "\"\"\")\n"
   ]
  },
  {
   "cell_type": "code",
   "execution_count": null,
   "id": "4b3c69fe-87b8-4771-8405-c078911b77d0",
   "metadata": {},
   "outputs": [],
   "source": []
  }
 ],
 "metadata": {
  "kernelspec": {
   "display_name": "Python 3 (ipykernel)",
   "language": "python",
   "name": "python3"
  },
  "language_info": {
   "codemirror_mode": {
    "name": "ipython",
    "version": 3
   },
   "file_extension": ".py",
   "mimetype": "text/x-python",
   "name": "python",
   "nbconvert_exporter": "python",
   "pygments_lexer": "ipython3",
   "version": "3.11.13"
  }
 },
 "nbformat": 4,
 "nbformat_minor": 5
}
