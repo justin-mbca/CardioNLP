{
 "cells": [
  {
   "cell_type": "markdown",
   "id": "a6ae48af",
   "metadata": {},
   "source": [
    "# Data Scientist – Demonstration Notebook\n",
    "\n",
    "This notebook demonstrates advanced analytics, machine learning, NLP, federated learning, and data visualization, reflecting the responsibilities and requirements of a Data Scientist"
   ]
  },
  {
   "cell_type": "code",
   "execution_count": 1,
   "id": "f6a9508b",
   "metadata": {},
   "outputs": [
    {
     "name": "stdout",
     "output_type": "stream",
     "text": [
      "Epoch 20, Loss: 0.5494\n",
      "Epoch 40, Loss: 0.3105\n",
      "Epoch 60, Loss: 0.1976\n",
      "Epoch 80, Loss: 0.1384\n",
      "Epoch 100, Loss: 0.1037\n"
     ]
    },
    {
     "data": {
      "text/plain": [
       "(0.10372160375118256,\n",
       " array([0.90421045, 0.19710223, 0.94292015, 0.8546663 , 0.04006795,\n",
       "        0.8690294 , 0.93994105, 0.08340111, 0.9501287 , 0.10083569],\n",
       "       dtype=float32))"
      ]
     },
     "execution_count": 1,
     "metadata": {},
     "output_type": "execute_result"
    }
   ],
   "source": [
    "# Deep Learning Example (PyTorch)\n",
    "import torch\n",
    "import torch.nn as nn\n",
    "import pandas as pd\n",
    "from sklearn.preprocessing import StandardScaler\n",
    "\n",
    "# Load and preprocess the demo data\n",
    "df = pd.read_csv('../data/demo_patients.csv')\n",
    "categorical_cols = ['gender', 'ethnicity', 'smoking_status', 'diabetes_status', 'physical_activity', 'family_history']\n",
    "for col in categorical_cols:\n",
    "    df[col] = df[col].astype('category')\n",
    "\n",
    "X = pd.get_dummies(df.drop(columns=['cardio_risk', 'patient_id']), drop_first=True)\n",
    "y = df['cardio_risk']\n",
    "\n",
    "# Scale features\n",
    "scaler = StandardScaler()\n",
    "X_scaled = scaler.fit_transform(X)\n",
    "\n",
    "# Convert to torch tensors\n",
    "X_tensor = torch.tensor(X_scaled, dtype=torch.float32)\n",
    "y_tensor = torch.tensor(y.values, dtype=torch.float32).unsqueeze(1)\n",
    "\n",
    "class SimpleNN(nn.Module):\n",
    "    def __init__(self, input_dim, output_dim):\n",
    "        super().__init__()\n",
    "        self.fc = nn.Linear(input_dim, output_dim)\n",
    "    def forward(self, x):\n",
    "        return self.fc(x)\n",
    "\n",
    "# Instantiate and train the model\n",
    "model = SimpleNN(input_dim=X_tensor.shape[1], output_dim=1)\n",
    "criterion = nn.BCEWithLogitsLoss()\n",
    "optimizer = torch.optim.Adam(model.parameters(), lr=0.01)\n",
    "\n",
    "# Training loop (few epochs for demo)\n",
    "final_loss = None\n",
    "for epoch in range(100):\n",
    "    optimizer.zero_grad()\n",
    "    outputs = model(X_tensor)\n",
    "    loss = criterion(outputs, y_tensor)\n",
    "    loss.backward()\n",
    "    optimizer.step()\n",
    "    if (epoch+1) % 20 == 0:\n",
    "        print(f'Epoch {epoch+1}, Loss: {loss.item():.4f}')\n",
    "    final_loss = loss.item()\n",
    "\n",
    "# Predict and show results\n",
    "with torch.no_grad():\n",
    "    preds = torch.sigmoid(model(X_tensor))\n",
    "final_loss, preds.squeeze().numpy()"
   ]
  }
 ],
 "metadata": {
  "kernelspec": {
   "display_name": "Python 3 (ipykernel)",
   "language": "python",
   "name": "python3"
  },
  "language_info": {
   "codemirror_mode": {
    "name": "ipython",
    "version": 3
   },
   "file_extension": ".py",
   "mimetype": "text/x-python",
   "name": "python",
   "nbconvert_exporter": "python",
   "pygments_lexer": "ipython3",
   "version": "3.11.13"
  }
 },
 "nbformat": 4,
 "nbformat_minor": 5
}
