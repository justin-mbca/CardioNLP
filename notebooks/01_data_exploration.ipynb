{
 "cells": [
  {
   "cell_type": "code",
   "execution_count": null,
   "id": "a1ac0dc3",
   "metadata": {
    "vscode": {
     "languageId": "plaintext"
    }
   },
   "outputs": [],
   "source": [
    "# Import libraries\n",
    "import pandas as pd\n",
    "import numpy as np\n",
    "import matplotlib.pyplot as plt\n",
    "import seaborn as sns\n",
    "\n",
    "# Load dataset\n",
    "df = pd.read_csv('../data/synthetic_patients.csv')\n",
    "\n",
    "# Preview data\n",
    "df.head()\n",
    "\n",
    "# Basic info\n",
    "print(\"Shape:\", df.shape)\n",
    "df.info()\n",
    "\n",
    "# Check for missing values\n",
    "missing = df.isnull().sum()\n",
    "print(\"Missing values:\\n\", missing[missing > 0])\n",
    "\n",
    "# Summary statistics\n",
    "df.describe()\n",
    "\n",
    "# Class distribution\n",
    "sns.countplot(x='cardio_risk', data=df)\n",
    "plt.title(\"Cardiovascular Risk Distribution\")\n",
    "plt.xlabel(\"Risk Level (0 = Low, 1 = High)\")\n",
    "plt.ylabel(\"Count\")\n",
    "plt.show()\n",
    "\n",
    "# Correlation matrix\n",
    "plt.figure(figsize=(10, 8))\n",
    "sns.heatmap(df.corr(), annot=True, cmap='coolwarm', fmt=\".2f\")\n",
    "plt.title(\"Feature Correlation Matrix\")\n",
    "plt.show()\n",
    "\n",
    "# Age distribution by risk\n",
    "sns.histplot(data=df, x='age', hue='cardio_risk', bins=20, kde=True)\n",
    "plt.title(\"Age Distribution by Risk Level\")\n",
    "plt.show()\n",
    "\n",
    "# Boxplot for cholesterol\n",
    "sns.boxplot(x='cardio_risk', y='cholesterol', data=df)\n",
    "plt.title(\"Cholesterol Levels by Risk Group\")\n",
    "plt.show()\n",
    "\n",
    "# Pairplot (optional for small datasets)\n",
    "# sns.pairplot(df, hue='cardio_risk')\n",
    "\n",
    "# Categorical feature analysis\n",
    "categorical = ['gender', 'smoking_status', 'diabetes_status', 'ethnicity']\n",
    "for col in categorical:\n",
    "    plt.figure()\n",
    "    sns.countplot(x=col, hue='cardio_risk', data=df)\n",
    "    plt.title(f\"{col} vs Cardiovascular Risk\")\n",
    "    plt.xticks(rotation=45)\n",
    "    plt.show()\n"
   ]
  }
 ],
 "metadata": {
  "language_info": {
   "name": "python"
  }
 },
 "nbformat": 4,
 "nbformat_minor": 5
}
